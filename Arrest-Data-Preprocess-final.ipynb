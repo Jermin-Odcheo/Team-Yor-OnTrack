{
 "cells": [
  {
   "cell_type": "code",
   "execution_count": 1,
   "id": "26e8e13c",
   "metadata": {},
   "outputs": [
    {
     "name": "stdout",
     "output_type": "stream",
     "text": [
      "          Case Number Arrest Number        Arrest Date Time  Arrest Type  \\\n",
      "0       2016-00032092       E102852  08/13/2016 12:37:00 PM          NaN   \n",
      "1       2017-00032999         71822  03/04/2019 12:00:00 PM          NaN   \n",
      "2       2016-00008483         52186  07/21/2017 02:00:00 PM          NaN   \n",
      "3       2021-00005495         91214  02/03/2021 12:40:00 AM          NaN   \n",
      "4       2019-20094025       3113183  03/01/2019 10:21:00 AM          NaN   \n",
      "...               ...           ...                     ...          ...   \n",
      "238611  2017-00021371         50960  06/11/2017 08:04:00 PM          NaN   \n",
      "238612  2018-00002709       E107741  01/13/2018 11:59:00 PM          NaN   \n",
      "238613  2016-00034299         43067  08/28/2016 06:25:00 PM          NaN   \n",
      "238614  2020-00017307         84250  05/24/2020 04:15:00 PM          NaN   \n",
      "238615  2018-00032297         70511  03/06/2019 11:46:00 AM          NaN   \n",
      "\n",
      "       Age Category Crime Code                 Crime Code Description  \\\n",
      "0             Adult        23C                            Shoplifting   \n",
      "1             Adult        120                                Robbery   \n",
      "2             Adult         99                         Not Reportable   \n",
      "3             Adult         99                         Not Reportable   \n",
      "4             Adult        90J              Trespass of Real Property   \n",
      "...             ...        ...                                    ...   \n",
      "238611        Adult        90Z    All Other Offenses (Except Traffic)   \n",
      "238612        Adult        90D            Driving Under the Influence   \n",
      "238613        Adult        13C                           Intimidation   \n",
      "238614        Adult        520                 Weapons Law Violations   \n",
      "238615        Adult        09A  Murder and Non-Negligent Manslaughter   \n",
      "\n",
      "        NCIC Code                              NCIC Code Description  \\\n",
      "0          2303.0                                        Shoplifting   \n",
      "1          1202.0          Robbery-Business-Weapon (Identify Weapon)   \n",
      "2             NaN                                                NaN   \n",
      "3             NaN                                                NaN   \n",
      "4          5707.0                     Trespassing (describe offense)   \n",
      "...           ...                                                ...   \n",
      "238611     5005.0                                  Contempt of Court   \n",
      "238612     5404.0                     Driving Under Influence Liquor   \n",
      "238613     1316.0                   Intimidation (Includes Stalking)   \n",
      "238614     5211.0  Explosives - Possessing (specify type of explo...   \n",
      "238615      904.0  Homicide-Willful Kill-Nonfamily-Weapon (Identi...   \n",
      "\n",
      "         Statute or Ordinance  ... Age At Arrest  Age Range   Race  Gender  \\\n",
      "0                     9.6.401  ...          31.0      25-34  White  Female   \n",
      "1         18-4-301(1) F4 (04)  ...          21.0      20-24  White    Male   \n",
      "2             42-4-201(1) TIA  ...          27.0      25-34  White    Male   \n",
      "3                 42-4-1305.5  ...          22.0      20-24  Black    Male   \n",
      "4                     9.6.102  ...          38.0      35-44  White    Male   \n",
      "...                       ...  ...           ...        ...    ...     ...   \n",
      "238611    18-6-803.5(2)(a) M2  ...          24.0      20-24  White  Female   \n",
      "238612  42-4-1301(2)(a) M REP  ...          42.0      35-44  White    Male   \n",
      "238613            18-8-306 F4  ...          37.0      35-44  White  Female   \n",
      "238614    18-12-109(2) F4 (1)  ...          33.0      25-34  White    Male   \n",
      "238615    18-3-103(1) F2 (04)  ...          28.0      25-34  White    Male   \n",
      "\n",
      "                  Ethnicity       Arrest Location              City Zip Code  \\\n",
      "0                   Unknown                   NaN  COLORADO SPRINGS      NaN   \n",
      "1       Non Hispanic Origin                   NaN               NaN      NaN   \n",
      "2                  Hispanic                   NaN               NaN      NaN   \n",
      "3                   Unknown       PLATTE & PITKIN  COLORADO SPRINGS  80909.0   \n",
      "4       Non Hispanic Origin                   NaN               NaN      NaN   \n",
      "...                     ...                   ...               ...      ...   \n",
      "238611             Hispanic   CASCADE & VAN BUREN  COLORADO SPRINGS  80907.0   \n",
      "238612  Non Hispanic Origin    1400 E  BOULDER ST  COLORADO SPRINGS  80909.0   \n",
      "238613  Non Hispanic Origin    600 N  MURRAY BLVD  COLORADO SPRINGS  80915.0   \n",
      "238614  Non Hispanic Origin  2400 N  ACADEMY BLVD  COLORADO SPRINGS  80909.0   \n",
      "238615  Non Hispanic Origin  2700 E  LAS VEGAS ST  COLORADO SPRINGS  80906.0   \n",
      "\n",
      "                                    Location Point Patrol Division  \n",
      "0                                              NaN             NaN  \n",
      "1                                              NaN             NaN  \n",
      "2                                              NaN             NaN  \n",
      "3              POINT (-104.779066677 38.839376273)      Sand Creek  \n",
      "4                                              NaN             NaN  \n",
      "...                                            ...             ...  \n",
      "238611  POINT (-104.823411452969 38.8682190276424)          Falcon  \n",
      "238612                 POINT (-104.80036 38.83882)       Gold Hill  \n",
      "238613                  POINT (-104.74807 38.8416)      Sand Creek  \n",
      "238614                 POINT (-104.75727 38.86704)   Stetson Hills  \n",
      "238615                 POINT (-104.77693 38.78965)      Sand Creek  \n",
      "\n",
      "[238616 rows x 21 columns]\n"
     ]
    }
   ],
   "source": [
    "import pandas as pd\n",
    "\n",
    "# Load the dataset\n",
    "df = pd.read_csv('Arrest Data.csv')\n",
    "\n",
    "df.head()\n",
    "df.describe()\n",
    "print(df)"
   ]
  },
  {
   "cell_type": "code",
   "execution_count": 2,
   "id": "1bbef40f-a97d-4e52-aeb2-21a8ee106861",
   "metadata": {},
   "outputs": [
    {
     "name": "stdout",
     "output_type": "stream",
     "text": [
      "Case Number                             18\n",
      "Arrest Number                            0\n",
      "Arrest Date Time                         0\n",
      "Arrest Type                         238616\n",
      "Age Category                             0\n",
      "Crime Code                               0\n",
      "Crime Code Description                   0\n",
      "NCIC Code                            24144\n",
      "NCIC Code Description                24144\n",
      "Statute or Ordinance                     0\n",
      "Statute or Ordinance Description         0\n",
      "Age At Arrest                           12\n",
      "Age Range                               12\n",
      "Race                                    39\n",
      "Gender                                   5\n",
      "Ethnicity                              116\n",
      "Arrest Location                       8585\n",
      "City                                  3746\n",
      "Zip Code                              7459\n",
      "Location Point                       14384\n",
      "Patrol Division                      14119\n",
      "dtype: int64\n"
     ]
    }
   ],
   "source": [
    "null_counts = df.isnull().sum()\n",
    "\n",
    "print(null_counts)"
   ]
  },
  {
   "cell_type": "code",
   "execution_count": 3,
   "id": "cc9fa5d3-bfd5-4c29-a9b0-d94a2dcc7375",
   "metadata": {},
   "outputs": [],
   "source": [
    "from datetime import timedelta\n",
    "# Parse 'Arrest Date' as a datetime object\n",
    "df['Arrest Date Time'] = pd.to_datetime(df['Arrest Date Time'], errors='coerce')\n",
    "\n",
    "# Determine the latest date in the dataset\n",
    "latest_date = df['Arrest Date Time'].max()\n",
    "\n",
    "# Calculate the date 5 years prior to the latest date\n",
    "five_years_prior = latest_date - timedelta(days=5*365)\n",
    "\n",
    "# Filter the DataFrame to drop records older than five years prior to the latest date\n",
    "df = df[df['Arrest Date Time'] >= five_years_prior]"
   ]
  },
  {
   "cell_type": "code",
   "execution_count": 4,
   "id": "d1c921c3",
   "metadata": {
    "scrolled": true
   },
   "outputs": [
    {
     "name": "stdout",
     "output_type": "stream",
     "text": [
      "          Case Number Age Category  \\\n",
      "1       2017-00032999        Adult   \n",
      "3       2021-00005495        Adult   \n",
      "4       2019-20094025        Adult   \n",
      "5       ____-________        Adult   \n",
      "6       2020-00032627        Adult   \n",
      "...               ...          ...   \n",
      "238608  2020-00035032        Adult   \n",
      "238609  2022-00036990        Adult   \n",
      "238610  2021-00044474        Adult   \n",
      "238614  2020-00017307        Adult   \n",
      "238615  2018-00032297        Adult   \n",
      "\n",
      "                         Statute or Ordinance Description Age Range   Race  \\\n",
      "1                             Robbery - Business - Weapon     20-24  White   \n",
      "3                                Open marijuana container     20-24  Black   \n",
      "4                            TRESPASS ON PRIVATE PROPERTY     35-44  White   \n",
      "5                                   CONTEMPT OF COURT-COC     45-54  White   \n",
      "6                                             SHOPLIFTING     25-34  White   \n",
      "...                                                   ...       ...    ...   \n",
      "238608  2nd Degree Burglary - Forced Entry - Non-Resid...     25-34  White   \n",
      "238609                                        SHOPLIFTING     25-34  White   \n",
      "238610                                  CONTEMPT OF COURT     20-24  White   \n",
      "238614                        Explosive Devices - Possess     25-34  White   \n",
      "238615             2nd Degree Murder - Nonfamily - Weapon     25-34  White   \n",
      "\n",
      "       Gender            Ethnicity  \n",
      "1        Male  Non Hispanic Origin  \n",
      "3        Male              Unknown  \n",
      "4        Male  Non Hispanic Origin  \n",
      "5        Male  Non Hispanic Origin  \n",
      "6        Male  Non Hispanic Origin  \n",
      "...       ...                  ...  \n",
      "238608   Male  Non Hispanic Origin  \n",
      "238609   Male  Non Hispanic Origin  \n",
      "238610   Male             Hispanic  \n",
      "238614   Male  Non Hispanic Origin  \n",
      "238615   Male  Non Hispanic Origin  \n",
      "\n",
      "[148935 rows x 7 columns]\n"
     ]
    }
   ],
   "source": [
    "# List of columns to drop\n",
    "columns_to_drop = ['Arrest Number', 'Arrest Date Time', 'Arrest Type', 'Age At Arrest','Crime Code Description','Crime Code', 'NCIC Code', 'NCIC Code Description', 'Statute or Ordinance', 'Patrol Division', 'Location Point', 'Zip Code', 'City', 'Arrest Location']\n",
    "df = df.drop(columns=columns_to_drop, axis=1)\n",
    "\n",
    "print(df)"
   ]
  },
  {
   "cell_type": "code",
   "execution_count": 5,
   "id": "2b90c7fd",
   "metadata": {},
   "outputs": [
    {
     "name": "stdout",
     "output_type": "stream",
     "text": [
      "1                              Robbery\n",
      "3             Open marijuana container\n",
      "4         TRESPASS ON PRIVATE PROPERTY\n",
      "6                          SHOPLIFTING\n",
      "7                     Reckless driving\n",
      "                      ...             \n",
      "238608             2nd Degree Burglary\n",
      "238609                     SHOPLIFTING\n",
      "238610               CONTEMPT OF COURT\n",
      "238614               Explosive Devices\n",
      "238615               2nd Degree Murder\n",
      "Name: Statute or Ordinance Description, Length: 145846, dtype: object\n"
     ]
    }
   ],
   "source": [
    "# Define a function to simplify the description\n",
    "def simplify_description(description):\n",
    "    if pd.isna(description):\n",
    "        return description\n",
    "    return description.split(' - ')[0]\n",
    "    \n",
    "# Remove rows where 'Case Number' contains \"____-________\"\n",
    "df = df[~df['Case Number'].str.contains('____-________', na=False)]\n",
    "\n",
    "# Apply the function to the \"Statute or Ordinance Description\" column\n",
    "df['Statute or Ordinance Description'] = df['Statute or Ordinance Description'].apply(simplify_description)\n",
    "\n",
    "print(df['Statute or Ordinance Description'])"
   ]
  },
  {
   "cell_type": "code",
   "execution_count": 6,
   "id": "1c838f65-be94-4c70-885c-66803833d514",
   "metadata": {},
   "outputs": [
    {
     "name": "stdout",
     "output_type": "stream",
     "text": [
      "Case Number                         0\n",
      "Age Category                        0\n",
      "Statute or Ordinance Description    0\n",
      "Age Range                           0\n",
      "Race                                0\n",
      "Gender                              0\n",
      "Ethnicity                           0\n",
      "dtype: int64\n"
     ]
    }
   ],
   "source": [
    "# Remove rows with null values in the specified columns\n",
    "columns_of_interest = ['Case Number','Age Category', 'Age Range', 'Race', 'Gender', 'Ethnicity']\n",
    "df = df.dropna(subset=columns_of_interest)\n",
    "null_counts = df.isnull().sum()\n",
    "\n",
    "print(null_counts)"
   ]
  },
  {
   "cell_type": "code",
   "execution_count": 7,
   "id": "b4b491c6-adb2-45ec-8795-ae8fc7dcea2c",
   "metadata": {},
   "outputs": [
    {
     "name": "stdout",
     "output_type": "stream",
     "text": [
      "Preprocessed data saved to 'Processed_Arrest_Data_Final.csv'\n"
     ]
    }
   ],
   "source": [
    "# Save the preprocessed DataFrame to a .csv file\n",
    "df.to_csv('Processed_Arrest_Data_Final.csv', index=False)\n",
    "\n",
    "print(\"Preprocessed data saved to 'Processed_Arrest_Data_Final.csv'\")"
   ]
  }
 ],
 "metadata": {
  "kernelspec": {
   "display_name": "Python 3 (ipykernel)",
   "language": "python",
   "name": "python3"
  },
  "language_info": {
   "codemirror_mode": {
    "name": "ipython",
    "version": 3
   },
   "file_extension": ".py",
   "mimetype": "text/x-python",
   "name": "python",
   "nbconvert_exporter": "python",
   "pygments_lexer": "ipython3",
   "version": "3.8.10"
  }
 },
 "nbformat": 4,
 "nbformat_minor": 5
}
